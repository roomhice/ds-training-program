{
 "cells": [
  {
   "cell_type": "code",
   "execution_count": 1,
   "metadata": {},
   "outputs": [],
   "source": [
    "import pandas as pd\n",
    "import seaborn as sns\n",
    "import matplotlib.pyplot as plt\n",
    "%matplotlib inline"
   ]
  },
  {
   "cell_type": "code",
   "execution_count": 2,
   "metadata": {},
   "outputs": [],
   "source": [
    "train = pd.read_csv('../input_data/train.csv')"
   ]
  },
  {
   "cell_type": "markdown",
   "metadata": {},
   "source": [
    "## Q1. trainデータは何レコード(行)ありますか？"
   ]
  },
  {
   "cell_type": "code",
   "execution_count": 3,
   "metadata": {},
   "outputs": [
    {
     "name": "stdout",
     "output_type": "stream",
     "text": [
      "27128 行\n"
     ]
    }
   ],
   "source": [
    "print('{} 行'.format(len(train)))"
   ]
  },
  {
   "cell_type": "markdown",
   "metadata": {},
   "source": [
    "## Q2.  データ内の変数が量的変数／質的変数かを調べて下さい"
   ]
  },
  {
   "cell_type": "markdown",
   "metadata": {},
   "source": [
    "（以下、https://signate.jp/competitions/1/data より引用）\n",
    "\n",
    "データ説明\n",
    "学習用データ（train.csv）、検証用データ（test.csv）\n",
    "予測対象となる目的変数はカラム番号\"17\"の定額預金申し込み有無です。ただし、検証用データには含まれません。\n",
    "\n",
    "|カラム|ヘッダ名称|データ型|説明|\n",
    "|-|-|-|-|\n",
    "|0|id|int|行の通し番号|\n",
    "|1|age|int|年齢|\n",
    "|2|ob|varchar|職種|\n",
    "|3|marital|varchar|未婚/既婚|\n",
    "|4|education|varchar|教育水準|\n",
    "|5|default|varchar|債務不履行があるか（yes, no）|\n",
    "|6|balance|int|年間平均残高（€）|\n",
    "|7|housing|varchar|住宅ローン（yes, no）|\n",
    "|8|loan|varchar|個人ローン（yes, no）|\n",
    "|9|contact|varchar|連絡方法|\n",
    "|10|day|int|最終接触日|\n",
    "|11|month|char|最終接触月|\n",
    "|12|duration|int|最終接触時間（秒）|\n",
    "|13|compaign|int|現キャンペーンにおける接触回数|\n",
    "|14|pdays|int|経過日数：前キャンペーン接触後の日数|\n",
    "|15|previous|int|接触実績：現キャンペーン以前までに顧客に接触した回数|\n",
    "|16|poutcome|varchar|前回のキャンペーンの成果|\n",
    "|17|y|boolean|定額預金申し込み有無（1:有り, 0:無し）|"
   ]
  },
  {
   "cell_type": "code",
   "execution_count": 4,
   "metadata": {},
   "outputs": [
    {
     "name": "stdout",
     "output_type": "stream",
     "text": [
      "id         27128\n",
      "age        77\n",
      "job        12\n",
      "marital    3\n",
      "education  4\n",
      "default    2\n",
      "balance    5890\n",
      "housing    2\n",
      "loan       2\n",
      "contact    3\n",
      "day        31\n",
      "month      12\n",
      "duration   1424\n",
      "campaign   48\n",
      "pdays      491\n",
      "previous   35\n",
      "poutcome   4\n",
      "y          2\n"
     ]
    }
   ],
   "source": [
    "'''\n",
    "各列について、値の種類数をカウントしてみる。\n",
    "種類が少ないものは質的変数である可能性が高いと思われる。\n",
    "'''\n",
    "for k in train.columns:\n",
    "    print('{:10} {}'.format(k, len(train[k].unique())))"
   ]
  },
  {
   "cell_type": "code",
   "execution_count": 5,
   "metadata": {
    "scrolled": true
   },
   "outputs": [
    {
     "name": "stdout",
     "output_type": "stream",
     "text": [
      "\n",
      "id        \n",
      "[    1     2     3 ... 27126 27127 27128]\n",
      "\n",
      "age       \n",
      "[39 51 36 63 31 29 37 32 35 34 38 71 62 66 46 28 67 42 33 57 43 52 30 41\n",
      " 56 48 60 23 40 69 49 45 55 77 54 50 53 47 25 70 44 58 26 27 59 61 22 73\n",
      " 24 64 65 19 79 72 78 74 68 76 80 81 83 84 88 21 75 20 82 18 93 92 85 86\n",
      " 90 87 89 95 94]\n",
      "\n",
      "job       \n",
      "['blue-collar' 'entrepreneur' 'management' 'retired' 'services'\n",
      " 'technician' 'admin.' 'self-employed' 'housemaid' 'unemployed' 'unknown'\n",
      " 'student']\n",
      "\n",
      "marital   \n",
      "['married' 'single' 'divorced']\n",
      "\n",
      "education \n",
      "['secondary' 'primary' 'tertiary' 'unknown']\n",
      "\n",
      "default   \n",
      "['no' 'yes']\n",
      "\n",
      "balance   \n",
      "[ 1756  1443   436 ... -1246  5063 10451]\n",
      "\n",
      "housing   \n",
      "['yes' 'no']\n",
      "\n",
      "loan      \n",
      "['no' 'yes']\n",
      "\n",
      "contact   \n",
      "['cellular' 'unknown' 'telephone']\n",
      "\n",
      "day       \n",
      "[ 3 18 13 25 30  2  6  7 10 12 31  5  4 27 14 15 22 11 17  8  9 24 26 28\n",
      " 19 20 21 23 16  1 29]\n",
      "\n",
      "month     \n",
      "['apr' 'feb' 'jan' 'jun' 'sep' 'may' 'aug' 'mar' 'jul' 'nov' 'oct' 'dec']\n",
      "\n",
      "duration  \n",
      "[ 939  172  567 ... 1823 1777 1875]\n",
      "\n",
      "campaign  \n",
      "[ 1 10 14  2 15  3  5  4  6  7  8  9 20 11 13 37 12 25 30 16 21 23 39 17\n",
      " 27 46 19 22 51 32 26 34 31 18 24 28 29 36 35 55 43 33 63 38 58 50 41 44]\n",
      "\n",
      "pdays     \n",
      "[ -1 595   9 185 266 295 102 106 181  12 368 334 490 364 179 371  94 352\n",
      " 264 180 206 248 459 172 167 349 273  93 319  33 350 178 244 183 461 252\n",
      " 322 297 184 270 182 343 336 335 346  92 370  78   2 262 838 156 331 385\n",
      " 247 363 170 161  85 225 339 304 365 337 268 160 109 189 100 288 201 152\n",
      " 281 121 315  96 314 207  84 439 369 157 351  95 279  90 338 332 110 125\n",
      "  59 240 211 271 150  83 210 164 221 105   1 276 202 326 286 357 174  91\n",
      " 358 258  97 145 115 263 287 124 275 347 294  60 366 133 261 187 477 354\n",
      " 209 342 367 243 410  87 196 154 388 251 148 728 104 205 192 445 267 144\n",
      " 107 171 108  88  79 353 239 190 175 176 220 328 345 330 463 169 398 101\n",
      "  98  86 359   4  80  35 111 329 177 151 296 113  31 257   6 299 344 805\n",
      " 377 234  75 166 475 203 208 348 278 216 116  73 155 355 135 173 466 293\n",
      " 360 478 433 254 272 120 301 197 253 249 186 142 129 122 308 212 373 362\n",
      " 188 317 495 231 127 269 213 168 114  89  43 435  14 265 204 436 260 195\n",
      " 245 318 165 274 199 241 214 149 391 246 327 194 467  62 198 340  50  41\n",
      " 431  76 305 136 242  82 138 158 324 356  13 500 147 412 407 300 191 193\n",
      " 292 131 282 229 130 325 119  99 341 259 384 298  65  81 379   8 118  36\n",
      " 143  57 117 290 126  77 222 134 323 361 123 235 289  21 255 137  37  61\n",
      " 333 396 521 479 562 283 321 285 256  44 280  63 474 392 139 444 277 312\n",
      " 230 389  10 140 307 544 128 223 419 535 227 103 776 455 250 200 153 303\n",
      " 760 228 592 320 374 529 480 464 217 493 316   5 561 541 309 779 603 437\n",
      " 163 132  67 112 232 442 237 310 372 311 440  69 555 420 399 376 778 458\n",
      " 162 238 159 224  58  52 557 146 219 633 543 226 531 518 382 542 378 460\n",
      "  70 215   7 386  71  68  64  54 589  24 302 491  15  27  26 306  55 284\n",
      " 547 394  39 456 427  45 141  17 585   3 291 831  74 791 381 233 430 579\n",
      "  19 485  18 626  66  28 383 508 393 469 236 511  53 504 784 616  29 415\n",
      " 808 457 526 772 687 484 411 313 651  38 871 515 390 462 422 530 524 775\n",
      " 450 387  48 397 749  56 826 520 375 414  49 395 674  46 536  22 432 680\n",
      " 782 424 218 528 421]\n",
      "\n",
      "previous  \n",
      "[  0   2   9   8   1   4   5   3  15   7  12  17   6  21  10  13  11  16\n",
      "  24 275  23  27  19  14  20  29  22  55  38  41  51  25  40  18  28]\n",
      "\n",
      "poutcome  \n",
      "['unknown' 'failure' 'success' 'other']\n",
      "\n",
      "y         \n",
      "[1 0]\n"
     ]
    }
   ],
   "source": [
    "'''\n",
    "各列について、値の一覧を出してみる。\n",
    "'''\n",
    "for k in train.columns:\n",
    "    print('\\n{:10}\\n{}'.format(k, train[k].unique()))"
   ]
  },
  {
   "cell_type": "code",
   "execution_count": 6,
   "metadata": {},
   "outputs": [
    {
     "data": {
      "text/plain": [
       "id            True\n",
       "age          False\n",
       "job           True\n",
       "marital       True\n",
       "education     True\n",
       "default       True\n",
       "balance      False\n",
       "housing       True\n",
       "loan          True\n",
       "contact       True\n",
       "day           True\n",
       "month         True\n",
       "duration     False\n",
       "campaign     False\n",
       "pdays        False\n",
       "previous     False\n",
       "poutcome      True\n",
       "y             True\n",
       "Name: is_categorical, dtype: bool"
      ]
     },
     "execution_count": 6,
     "metadata": {},
     "output_type": "execute_result"
    }
   ],
   "source": [
    "'''\n",
    "考察\n",
    "\n",
    "True: 質的, False: 量的\n",
    "'''\n",
    "pd.Series([1, 0, 1, 1, 1, 1, 0, 1, 1, 1, 1, 1, 0, 0, 0, 0, 1, 1], index=train.columns).rename('is_categorical').astype(bool)"
   ]
  },
  {
   "cell_type": "markdown",
   "metadata": {},
   "source": [
    "## Q3. 欠損(欠損の定義は各自で考える)はありますか？\n",
    "\n",
    "考察:  \n",
    "job, education, contact, poutcome == \"unknown\"  \n",
    "pdays == -1  \n",
    "poutcome == \"other\" は？  "
   ]
  },
  {
   "cell_type": "code",
   "execution_count": 7,
   "metadata": {},
   "outputs": [
    {
     "data": {
      "text/plain": [
       "id           0\n",
       "age          0\n",
       "job          0\n",
       "marital      0\n",
       "education    0\n",
       "default      0\n",
       "balance      0\n",
       "housing      0\n",
       "loan         0\n",
       "contact      0\n",
       "day          0\n",
       "month        0\n",
       "duration     0\n",
       "campaign     0\n",
       "pdays        0\n",
       "previous     0\n",
       "poutcome     0\n",
       "y            0\n",
       "dtype: int64"
      ]
     },
     "execution_count": 7,
     "metadata": {},
     "output_type": "execute_result"
    }
   ],
   "source": [
    "'''\n",
    "各列について、値がNaNとなっている要素の数を数えてみる。\n",
    "\n",
    "> 一つもない\n",
    "'''\n",
    "train.isna().sum()"
   ]
  },
  {
   "cell_type": "code",
   "execution_count": 8,
   "metadata": {
    "scrolled": true
   },
   "outputs": [
    {
     "name": "stdout",
     "output_type": "stream",
     "text": [
      "\n",
      "id        \n",
      "[    1     2     3 ... 27126 27127 27128]\n",
      "\n",
      "age       \n",
      "[39 51 36 63 31 29 37 32 35 34 38 71 62 66 46 28 67 42 33 57 43 52 30 41\n",
      " 56 48 60 23 40 69 49 45 55 77 54 50 53 47 25 70 44 58 26 27 59 61 22 73\n",
      " 24 64 65 19 79 72 78 74 68 76 80 81 83 84 88 21 75 20 82 18 93 92 85 86\n",
      " 90 87 89 95 94]\n",
      "\n",
      "job       \n",
      "['blue-collar' 'entrepreneur' 'management' 'retired' 'services'\n",
      " 'technician' 'admin.' 'self-employed' 'housemaid' 'unemployed' 'unknown'\n",
      " 'student']\n",
      "\n",
      "marital   \n",
      "['married' 'single' 'divorced']\n",
      "\n",
      "education \n",
      "['secondary' 'primary' 'tertiary' 'unknown']\n",
      "\n",
      "default   \n",
      "['no' 'yes']\n",
      "\n",
      "balance   \n",
      "[ 1756  1443   436 ... -1246  5063 10451]\n",
      "\n",
      "housing   \n",
      "['yes' 'no']\n",
      "\n",
      "loan      \n",
      "['no' 'yes']\n",
      "\n",
      "contact   \n",
      "['cellular' 'unknown' 'telephone']\n",
      "\n",
      "day       \n",
      "[ 3 18 13 25 30  2  6  7 10 12 31  5  4 27 14 15 22 11 17  8  9 24 26 28\n",
      " 19 20 21 23 16  1 29]\n",
      "\n",
      "month     \n",
      "['apr' 'feb' 'jan' 'jun' 'sep' 'may' 'aug' 'mar' 'jul' 'nov' 'oct' 'dec']\n",
      "\n",
      "duration  \n",
      "[ 939  172  567 ... 1823 1777 1875]\n",
      "\n",
      "campaign  \n",
      "[ 1 10 14  2 15  3  5  4  6  7  8  9 20 11 13 37 12 25 30 16 21 23 39 17\n",
      " 27 46 19 22 51 32 26 34 31 18 24 28 29 36 35 55 43 33 63 38 58 50 41 44]\n",
      "\n",
      "pdays     \n",
      "[ -1 595   9 185 266 295 102 106 181  12 368 334 490 364 179 371  94 352\n",
      " 264 180 206 248 459 172 167 349 273  93 319  33 350 178 244 183 461 252\n",
      " 322 297 184 270 182 343 336 335 346  92 370  78   2 262 838 156 331 385\n",
      " 247 363 170 161  85 225 339 304 365 337 268 160 109 189 100 288 201 152\n",
      " 281 121 315  96 314 207  84 439 369 157 351  95 279  90 338 332 110 125\n",
      "  59 240 211 271 150  83 210 164 221 105   1 276 202 326 286 357 174  91\n",
      " 358 258  97 145 115 263 287 124 275 347 294  60 366 133 261 187 477 354\n",
      " 209 342 367 243 410  87 196 154 388 251 148 728 104 205 192 445 267 144\n",
      " 107 171 108  88  79 353 239 190 175 176 220 328 345 330 463 169 398 101\n",
      "  98  86 359   4  80  35 111 329 177 151 296 113  31 257   6 299 344 805\n",
      " 377 234  75 166 475 203 208 348 278 216 116  73 155 355 135 173 466 293\n",
      " 360 478 433 254 272 120 301 197 253 249 186 142 129 122 308 212 373 362\n",
      " 188 317 495 231 127 269 213 168 114  89  43 435  14 265 204 436 260 195\n",
      " 245 318 165 274 199 241 214 149 391 246 327 194 467  62 198 340  50  41\n",
      " 431  76 305 136 242  82 138 158 324 356  13 500 147 412 407 300 191 193\n",
      " 292 131 282 229 130 325 119  99 341 259 384 298  65  81 379   8 118  36\n",
      " 143  57 117 290 126  77 222 134 323 361 123 235 289  21 255 137  37  61\n",
      " 333 396 521 479 562 283 321 285 256  44 280  63 474 392 139 444 277 312\n",
      " 230 389  10 140 307 544 128 223 419 535 227 103 776 455 250 200 153 303\n",
      " 760 228 592 320 374 529 480 464 217 493 316   5 561 541 309 779 603 437\n",
      " 163 132  67 112 232 442 237 310 372 311 440  69 555 420 399 376 778 458\n",
      " 162 238 159 224  58  52 557 146 219 633 543 226 531 518 382 542 378 460\n",
      "  70 215   7 386  71  68  64  54 589  24 302 491  15  27  26 306  55 284\n",
      " 547 394  39 456 427  45 141  17 585   3 291 831  74 791 381 233 430 579\n",
      "  19 485  18 626  66  28 383 508 393 469 236 511  53 504 784 616  29 415\n",
      " 808 457 526 772 687 484 411 313 651  38 871 515 390 462 422 530 524 775\n",
      " 450 387  48 397 749  56 826 520 375 414  49 395 674  46 536  22 432 680\n",
      " 782 424 218 528 421]\n",
      "\n",
      "previous  \n",
      "[  0   2   9   8   1   4   5   3  15   7  12  17   6  21  10  13  11  16\n",
      "  24 275  23  27  19  14  20  29  22  55  38  41  51  25  40  18  28]\n",
      "\n",
      "poutcome  \n",
      "['unknown' 'failure' 'success' 'other']\n",
      "\n",
      "y         \n",
      "[1 0]\n"
     ]
    }
   ],
   "source": [
    "'''\n",
    "各列の値一覧を再度見てみる（Q2と同じもの）。\n",
    "\n",
    "> \"unknown\"という値を持つ列がいくつかある。これは欠損値としてよさそう。\n",
    "> また、poutcome列には\"other\"もある。\n",
    "'''\n",
    "for k in train.columns:\n",
    "    print('\\n{:10}\\n{}'.format(k, train[k].unique()))"
   ]
  },
  {
   "cell_type": "code",
   "execution_count": 9,
   "metadata": {},
   "outputs": [
    {
     "data": {
      "text/html": [
       "<div>\n",
       "<style scoped>\n",
       "    .dataframe tbody tr th:only-of-type {\n",
       "        vertical-align: middle;\n",
       "    }\n",
       "\n",
       "    .dataframe tbody tr th {\n",
       "        vertical-align: top;\n",
       "    }\n",
       "\n",
       "    .dataframe thead th {\n",
       "        text-align: right;\n",
       "    }\n",
       "</style>\n",
       "<table border=\"1\" class=\"dataframe\">\n",
       "  <thead>\n",
       "    <tr style=\"text-align: right;\">\n",
       "      <th></th>\n",
       "      <th>id</th>\n",
       "      <th>age</th>\n",
       "      <th>job</th>\n",
       "      <th>marital</th>\n",
       "      <th>education</th>\n",
       "      <th>default</th>\n",
       "      <th>balance</th>\n",
       "      <th>housing</th>\n",
       "      <th>loan</th>\n",
       "      <th>contact</th>\n",
       "      <th>day</th>\n",
       "      <th>month</th>\n",
       "      <th>duration</th>\n",
       "      <th>campaign</th>\n",
       "      <th>pdays</th>\n",
       "      <th>previous</th>\n",
       "      <th>poutcome</th>\n",
       "      <th>y</th>\n",
       "    </tr>\n",
       "  </thead>\n",
       "  <tbody>\n",
       "    <tr>\n",
       "      <th>max</th>\n",
       "      <td>27128</td>\n",
       "      <td>95</td>\n",
       "      <td>unknown</td>\n",
       "      <td>single</td>\n",
       "      <td>unknown</td>\n",
       "      <td>yes</td>\n",
       "      <td>102127</td>\n",
       "      <td>yes</td>\n",
       "      <td>yes</td>\n",
       "      <td>unknown</td>\n",
       "      <td>31</td>\n",
       "      <td>sep</td>\n",
       "      <td>4918</td>\n",
       "      <td>63</td>\n",
       "      <td>871</td>\n",
       "      <td>275</td>\n",
       "      <td>unknown</td>\n",
       "      <td>1</td>\n",
       "    </tr>\n",
       "    <tr>\n",
       "      <th>min</th>\n",
       "      <td>1</td>\n",
       "      <td>18</td>\n",
       "      <td>admin.</td>\n",
       "      <td>divorced</td>\n",
       "      <td>primary</td>\n",
       "      <td>no</td>\n",
       "      <td>-6847</td>\n",
       "      <td>no</td>\n",
       "      <td>no</td>\n",
       "      <td>cellular</td>\n",
       "      <td>1</td>\n",
       "      <td>apr</td>\n",
       "      <td>0</td>\n",
       "      <td>1</td>\n",
       "      <td>-1</td>\n",
       "      <td>0</td>\n",
       "      <td>failure</td>\n",
       "      <td>0</td>\n",
       "    </tr>\n",
       "  </tbody>\n",
       "</table>\n",
       "</div>"
      ],
      "text/plain": [
       "        id  age      job   marital education default  balance housing loan  \\\n",
       "max  27128   95  unknown    single   unknown     yes   102127     yes  yes   \n",
       "min      1   18   admin.  divorced   primary      no    -6847      no   no   \n",
       "\n",
       "      contact  day month  duration  campaign  pdays  previous poutcome  y  \n",
       "max   unknown   31   sep      4918        63    871       275  unknown  1  \n",
       "min  cellular    1   apr         0         1     -1         0  failure  0  "
      ]
     },
     "execution_count": 9,
     "metadata": {},
     "output_type": "execute_result"
    }
   ],
   "source": [
    "'''\n",
    "各列について、値の最大値と最小値を見てみる。\n",
    "\n",
    "> pdays列に-1がある。欠損値と思われる。\n",
    "> 前キャンペーンでの接触がない人は-1か？\n",
    "> 量的変数なので、-1として入っていると不都合があるのでNaNなどにして扱いたい。\n",
    "\n",
    "> age, day, campaign, previousなどは妥当に見える。\n",
    "'''\n",
    "train.agg(['max', 'min'])"
   ]
  },
  {
   "cell_type": "code",
   "execution_count": 10,
   "metadata": {},
   "outputs": [
    {
     "name": "stdout",
     "output_type": "stream",
     "text": [
      "22146\n",
      "[-1]\n"
     ]
    }
   ],
   "source": [
    "'''\n",
    "pdays < 0 であるデータは27128件中22146件もあり、そのすべてが pdays == -1\n",
    "'''\n",
    "print((train.pdays < 0).sum())\n",
    "print(train.pdays[train.pdays < 0].unique())"
   ]
  },
  {
   "cell_type": "code",
   "execution_count": 11,
   "metadata": {},
   "outputs": [
    {
     "data": {
      "image/png": "[encoded data removed]",
      "text/plain": [
       "<Figure size 1152x720 with 20 Axes>"
      ]
     },
     "metadata": {
      "needs_background": "light"
     },
     "output_type": "display_data"
    }
   ],
   "source": [
    "'''\n",
    "横軸を各列の値、縦軸をy列としてざっとプロットしてみる。\n",
    "量的変数はそれらしく分布しているように見える。\n",
    "'''\n",
    "n = len(train.columns)\n",
    "nc = 4\n",
    "nr = -int(-n//nc)\n",
    "fig, ax = plt.subplots(nr, nc, figsize=(nc*4, nr*2))\n",
    "for i in range(n):\n",
    "    a = ax.ravel()[i]\n",
    "    a.scatter(x=train[train.columns[i]], y=train.y, s=1, color='darkorange', label=train.columns[i])\n",
    "    a.legend()\n",
    "\n",
    "plt.show()"
   ]
  },
  {
   "cell_type": "markdown",
   "metadata": {},
   "source": [
    "## Q4. balanceが10,000以上の人は何%程度いますか？"
   ]
  },
  {
   "cell_type": "code",
   "execution_count": 12,
   "metadata": {},
   "outputs": [
    {
     "name": "stdout",
     "output_type": "stream",
     "text": [
      "1.8 %\n"
     ]
    }
   ],
   "source": [
    "q4 = (train.balance >= 10000).rename('Q4')\n",
    "answer = q4.sum() / q4.count() * 100\n",
    "print('{} %'.format(answer.round(1)))"
   ]
  },
  {
   "cell_type": "markdown",
   "metadata": {},
   "source": [
    "## Q5. contactがcellularの人は何%程度いますか？"
   ]
  },
  {
   "cell_type": "code",
   "execution_count": 13,
   "metadata": {},
   "outputs": [
    {
     "name": "stdout",
     "output_type": "stream",
     "text": [
      "64.8 %\n"
     ]
    }
   ],
   "source": [
    "q5 = (train.contact == \"cellular\").rename('Q5')\n",
    "answer = q5.sum() / q5.count() * 100\n",
    "print('{} %'.format(answer.round(1)))"
   ]
  },
  {
   "cell_type": "markdown",
   "metadata": {},
   "source": [
    "## Q6. Q4またはQ5の人の申込率(y=1の割合)はどの程度ですか？\n",
    "\n",
    "\n",
    "題意がよくわからない（Q4==TrueとQ5==Trueのyをそれぞれ出すのか、(Q4 or Q5)==Trueのyを出すのか…）ので全部出してみる。\n",
    "\n",
    "どれも14～15%"
   ]
  },
  {
   "cell_type": "code",
   "execution_count": 14,
   "metadata": {},
   "outputs": [
    {
     "data": {
      "text/plain": [
       "0    0.856855\n",
       "1    0.143145\n",
       "Name: y, dtype: float64"
      ]
     },
     "execution_count": 14,
     "metadata": {},
     "output_type": "execute_result"
    }
   ],
   "source": [
    "q64 = train[q4].y\n",
    "q64.value_counts(normalize=True)"
   ]
  },
  {
   "cell_type": "code",
   "execution_count": 15,
   "metadata": {},
   "outputs": [
    {
     "data": {
      "text/plain": [
       "0    0.850455\n",
       "1    0.149545\n",
       "Name: y, dtype: float64"
      ]
     },
     "execution_count": 15,
     "metadata": {},
     "output_type": "execute_result"
    }
   ],
   "source": [
    "q65 = train[q5].y\n",
    "q65.value_counts(normalize=True)"
   ]
  },
  {
   "cell_type": "code",
   "execution_count": 16,
   "metadata": {},
   "outputs": [
    {
     "data": {
      "text/plain": [
       "0    0.851238\n",
       "1    0.148762\n",
       "Name: y, dtype: float64"
      ]
     },
     "execution_count": 16,
     "metadata": {},
     "output_type": "execute_result"
    }
   ],
   "source": [
    "q6x = train[q4 | q5].y\n",
    "q6x.value_counts(normalize=True)"
   ]
  },
  {
   "cell_type": "markdown",
   "metadata": {},
   "source": [
    "## Q7. Q6の答えを集計表もしくはグラフで可視化してください"
   ]
  },
  {
   "cell_type": "code",
   "execution_count": 17,
   "metadata": {},
   "outputs": [
    {
     "data": {
      "text/html": [
       "<div>\n",
       "<style scoped>\n",
       "    .dataframe tbody tr th:only-of-type {\n",
       "        vertical-align: middle;\n",
       "    }\n",
       "\n",
       "    .dataframe tbody tr th {\n",
       "        vertical-align: top;\n",
       "    }\n",
       "\n",
       "    .dataframe thead th {\n",
       "        text-align: right;\n",
       "    }\n",
       "</style>\n",
       "<table border=\"1\" class=\"dataframe\">\n",
       "  <thead>\n",
       "    <tr style=\"text-align: right;\">\n",
       "      <th>Q5</th>\n",
       "      <th>False</th>\n",
       "      <th>True</th>\n",
       "    </tr>\n",
       "    <tr>\n",
       "      <th>Q4</th>\n",
       "      <th></th>\n",
       "      <th></th>\n",
       "    </tr>\n",
       "  </thead>\n",
       "  <tbody>\n",
       "    <tr>\n",
       "      <th>False</th>\n",
       "      <td>0.057052</td>\n",
       "      <td>0.148924</td>\n",
       "    </tr>\n",
       "    <tr>\n",
       "      <th>True</th>\n",
       "      <td>0.058824</td>\n",
       "      <td>0.180758</td>\n",
       "    </tr>\n",
       "  </tbody>\n",
       "</table>\n",
       "</div>"
      ],
      "text/plain": [
       "Q5        False     True \n",
       "Q4                       \n",
       "False  0.057052  0.148924\n",
       "True   0.058824  0.180758"
      ]
     },
     "execution_count": 17,
     "metadata": {},
     "output_type": "execute_result"
    }
   ],
   "source": [
    "'''\n",
    "各True/Falseの組み合わせに該当する人の中での、y==1の人の割合の表\n",
    "'''\n",
    "y_prop_cross = (train.y.groupby([q4, q5]).sum() / train.y.groupby([q4, q5]).count()).unstack('Q5')\n",
    "y_prop_cross"
   ]
  },
  {
   "cell_type": "code",
   "execution_count": 18,
   "metadata": {},
   "outputs": [
    {
     "data": {
      "text/plain": [
       "<matplotlib.axes._subplots.AxesSubplot at 0x15f134854f0>"
      ]
     },
     "execution_count": 18,
     "metadata": {},
     "output_type": "execute_result"
    },
    {
     "data": {
      "image/png": "[encoded data removed]",
      "text/plain": [
       "<Figure size 432x288 with 2 Axes>"
      ]
     },
     "metadata": {
      "needs_background": "light"
     },
     "output_type": "display_data"
    }
   ],
   "source": [
    "'''\n",
    "ヒートマップで見てみる。\n",
    "'''\n",
    "sns.heatmap(y_prop_cross, annot=True, vmin=0, vmax=0.2, cbar_kws={'label': 'proportion of y==1'}, cmap='viridis')"
   ]
  },
  {
   "cell_type": "code",
   "execution_count": 19,
   "metadata": {},
   "outputs": [
    {
     "data": {
      "text/plain": [
       "<matplotlib.axes._subplots.AxesSubplot at 0x15f15a2ba90>"
      ]
     },
     "execution_count": 19,
     "metadata": {},
     "output_type": "execute_result"
    },
    {
     "data": {
      "image/png": "[encoded data removed]",
      "text/plain": [
       "<Figure size 432x288 with 1 Axes>"
      ]
     },
     "metadata": {
      "needs_background": "light"
     },
     "output_type": "display_data"
    }
   ],
   "source": [
    "'''\n",
    "棒グラフにしてみる。\n",
    "黒い棒はエラーバー。\n",
    "\n",
    "Q5のTrue/Falseはyに効いていそうだが、Q4のTrue/Falseはあまり効いていなそう。\n",
    "'''\n",
    "sns.barplot(x=q4, y=train.y, hue=q5)"
   ]
  }
 ],
 "metadata": {
  "kernelspec": {
   "display_name": "Python 3",
   "language": "python",
   "name": "python3"
  },
  "language_info": {
   "codemirror_mode": {
    "name": "ipython",
    "version": 3
   },
   "file_extension": ".py",
   "mimetype": "text/x-python",
   "name": "python",
   "nbconvert_exporter": "python",
   "pygments_lexer": "ipython3",
   "version": "3.8.3"
  }
 },
 "nbformat": 4,
 "nbformat_minor": 4
}
